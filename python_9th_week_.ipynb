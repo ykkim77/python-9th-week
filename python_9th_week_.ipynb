{
  "nbformat": 4,
  "nbformat_minor": 0,
  "metadata": {
    "colab": {
      "provenance": [],
      "authorship_tag": "ABX9TyPWQEq8jfiI4sYHOo1dIYYX",
      "include_colab_link": true
    },
    "kernelspec": {
      "name": "python3",
      "display_name": "Python 3"
    },
    "language_info": {
      "name": "python"
    }
  },
  "cells": [
    {
      "cell_type": "markdown",
      "metadata": {
        "id": "view-in-github",
        "colab_type": "text"
      },
      "source": [
        "<a href=\"https://colab.research.google.com/github/ykkim77/python-9th-week/blob/main/python_9th_week_.ipynb\" target=\"_parent\"><img src=\"https://colab.research.google.com/assets/colab-badge.svg\" alt=\"Open In Colab\"/></a>"
      ]
    },
    {
      "cell_type": "markdown",
      "source": [
        "# 함수 기초"
      ],
      "metadata": {
        "id": "Vt_xDMTGdChR"
      }
    },
    {
      "cell_type": "markdown",
      "metadata": {
        "id": "CeKMJBJznCQg"
      },
      "source": [
        "**함수의 정의**"
      ]
    },
    {
      "cell_type": "code",
      "metadata": {
        "id": "HGdjP_yLniAR"
      },
      "source": [
        "def add(a,b):        # a, b는 매개 변수\n",
        "    return a+b"
      ],
      "execution_count": null,
      "outputs": []
    },
    {
      "cell_type": "markdown",
      "metadata": {
        "id": "NAI8rKhXofaa"
      },
      "source": [
        "**함수의 호출**"
      ]
    },
    {
      "cell_type": "code",
      "metadata": {
        "id": "w6vg1ZNroaII"
      },
      "source": [
        "c = add(3,4)      # 위에서 정의한 add 함수의 호출    3,4 는 인수\n",
        "\n",
        "print(c)"
      ],
      "execution_count": null,
      "outputs": []
    },
    {
      "cell_type": "markdown",
      "metadata": {
        "id": "N9mr9H4mp5iG"
      },
      "source": [
        "**입력값이 없는 함수**"
      ]
    },
    {
      "cell_type": "code",
      "metadata": {
        "id": "MLYWfzvnp4yu"
      },
      "source": [
        "def say():\n",
        "    return 'HI'\n",
        "\n",
        "a = say()    # 함수를 정의할때 입력값이 없으므로, say() 함수 호출시에도 인수를 넣지 않아야 함\n",
        "\n",
        "print(a)"
      ],
      "execution_count": null,
      "outputs": []
    },
    {
      "cell_type": "markdown",
      "metadata": {
        "id": "ekzuaBvpqRDs"
      },
      "source": [
        "**결과값이 없는 함수**"
      ]
    },
    {
      "cell_type": "code",
      "metadata": {
        "id": "w-cL4azDqYRE"
      },
      "source": [
        "def add(a,b):\n",
        "    print(\"%d, %d의 합은 %d입니다.\"%(a,b,a+b))    # return 이 없다\n",
        "\n",
        "add(3,4)"
      ],
      "execution_count": null,
      "outputs": []
    },
    {
      "cell_type": "markdown",
      "metadata": {
        "id": "uZQKG-OUqn2n"
      },
      "source": [
        "**입력값도 결과값도 없는 함수**"
      ]
    },
    {
      "cell_type": "code",
      "metadata": {
        "id": "YhpX18I_qnjS"
      },
      "source": [
        "def say():\n",
        "    print('HI')\n",
        "\n",
        "say()"
      ],
      "execution_count": null,
      "outputs": []
    },
    {
      "cell_type": "markdown",
      "metadata": {
        "id": "enXRTVt4rKhR"
      },
      "source": [
        "**함수의 초깃값을 미리 설정**"
      ]
    },
    {
      "cell_type": "code",
      "metadata": {
        "id": "K-ia4vo6rN5z"
      },
      "source": [
        "def say_myself(name,old,man=True):\n",
        "    print(\"나의 이름은 %s 입니다.\"%name)\n",
        "    print(\"나의 나이는 %d 입니다.\"%old)\n",
        "    if man:\n",
        "        print(\"남자 입니다.\")\n",
        "    else:\n",
        "        print(\"성별을 알 수없습니다.\")\n",
        "\n",
        "say_myself(\"박응용\",27)      # 세번째 인자에 값을 넣지 않으면 초기값으로 설정된 True가 man에 들어감\n",
        "\n",
        "say_myself(\"박응용\",27,False)  # 세번째 인자에 값을 넣지 않으면 초기값으로 설정된 True가 man에 들어감"
      ],
      "execution_count": null,
      "outputs": []
    },
    {
      "cell_type": "markdown",
      "metadata": {
        "id": "m0ErZWtys9PB"
      },
      "source": [
        "**지역 변수**"
      ]
    },
    {
      "cell_type": "code",
      "metadata": {
        "id": "c_VnpKQ7tBZ5"
      },
      "source": [
        "a = 1\n",
        "def vartest(a):\n",
        "    a = a + 1\n",
        "\n",
        "vartest(a)         # 함수를 호출해서 a 값을 전달했고, 분명 함수 안에서 a 에 1을 더했는데.......\n",
        "print(a)          # a의 값을 살펴보면 1이 출력된다.    이것은 함수 안의 a는 함수 안에서만 사용하는 지역변수 a 이기 때문이다."
      ],
      "execution_count": null,
      "outputs": []
    },
    {
      "cell_type": "markdown",
      "metadata": {
        "id": "f6vaIFEwt2bS"
      },
      "source": [
        "**그렇다면 위의 코드에 a에 1이 더해진 결과를 얻기 위해서는 어떻게 해야 할까?**"
      ]
    },
    {
      "cell_type": "code",
      "metadata": {
        "id": "ZSRe5-5lt_wh"
      },
      "source": [
        "a = 1\n",
        "def vartest(a):\n",
        "    return a+1\n",
        "\n",
        "a=  vartest(a)\n",
        "print(a)          # a의 값을 살펴보면 2가 출력된다. 인자 값으로 전달된 1에서 1을 더한뒤 결과를 반환하기 때문이다."
      ],
      "execution_count": null,
      "outputs": []
    },
    {
      "cell_type": "markdown",
      "metadata": {
        "id": "qB0qYUAMuJi9"
      },
      "source": [
        "**lambda 함수의 사용**"
      ]
    },
    {
      "cell_type": "code",
      "metadata": {
        "id": "9Z-rUTcTuItQ"
      },
      "source": [
        "add = lambda a, b: a+b     # 람다 함수의 정의\n",
        "\n",
        "print(add(3,4))"
      ],
      "execution_count": null,
      "outputs": []
    },
    {
      "cell_type": "code",
      "source": [
        "# 숫자 리스트\n",
        "numbers = [1,2,3,4,5,6,7,8,9,10]\n",
        "\n",
        "# 짝수를 판별하는 함수\n",
        "def is_even(x):\n",
        "    return x % 2 == 0  # x가 짝수이면 True를 반환, 홀수이면 False를 반환\n",
        "\n",
        "# filter 함수를 사용하여 짝수만 필터링\n",
        "even_numbers = list(filter(is_even, numbers))\n",
        "print(even_numbers)"
      ],
      "metadata": {
        "id": "HMC5sk2EeiSf"
      },
      "execution_count": null,
      "outputs": []
    },
    {
      "cell_type": "code",
      "source": [
        "number_list = [1,2,3,4,5,6,7,8,9,10]\n",
        "\n",
        "result = list(filter(lambda x: x%2 == 0,number_list))  # 람다 함수 사용\n",
        "\n",
        "print(result)\n"
      ],
      "metadata": {
        "id": "KnSIaO-ZXONC"
      },
      "execution_count": null,
      "outputs": []
    },
    {
      "cell_type": "markdown",
      "metadata": {
        "id": "OTNXBgPqugRt"
      },
      "source": [
        "**input() 함수의 사용**\n",
        "\n"
      ]
    },
    {
      "cell_type": "code",
      "metadata": {
        "id": "g51fz1BtufTT"
      },
      "source": [
        "a = int(input())\n",
        "\n",
        "print(\"%d를 입력하셨습니다.\"%a)"
      ],
      "execution_count": null,
      "outputs": []
    },
    {
      "cell_type": "markdown",
      "metadata": {
        "id": "Pl4_qj8wu9Ug"
      },
      "source": [
        "**print() 함수의 사용**"
      ]
    },
    {
      "cell_type": "code",
      "metadata": {
        "id": "Zh_dDnEdu_dv"
      },
      "source": [
        "a = 123\n",
        "print(a)     # 숫자 출력하기\n",
        "\n",
        "a = \"python\"  # 문자 출력하기\n",
        "print(a)\n",
        "\n",
        "a = [1,2,3]\n",
        "print(a)     # 리스트 출력하기\n"
      ],
      "execution_count": null,
      "outputs": []
    },
    {
      "cell_type": "code",
      "metadata": {
        "id": "DEvm8Sn0wqoY"
      },
      "source": [
        "print(\"life\", \"is\", \"too short\")   #문자열 띄어쓰기 : 콤마(,) 사용\n",
        "\n",
        "print(\"life\" \"is\" \"too short\")     #문자열 연결하기 : 큰따옴표(\"\") 사용\n",
        "\n",
        "print(\"life\"+\"is\"+\"too short\")    #문자열 연결하기 : + 사용"
      ],
      "execution_count": null,
      "outputs": []
    },
    {
      "cell_type": "markdown",
      "source": [
        "# 함수 응용"
      ],
      "metadata": {
        "id": "0gQy3bRrdG2R"
      }
    },
    {
      "cell_type": "markdown",
      "metadata": {
        "id": "mqz56P7Nyvt1"
      },
      "source": [
        "**파일 생성하기**"
      ]
    },
    {
      "cell_type": "code",
      "metadata": {
        "id": "vowlJ9ILyu8K"
      },
      "source": [
        "f = open(\"python.txt\", 'w')\n",
        "f.close()"
      ],
      "execution_count": null,
      "outputs": []
    },
    {
      "cell_type": "markdown",
      "metadata": {
        "id": "idyEXdz2y_BM"
      },
      "source": [
        "**생성한 파일 확인하기**"
      ]
    },
    {
      "cell_type": "code",
      "metadata": {
        "id": "EGq6XtafzA4s"
      },
      "source": [
        "!ls"
      ],
      "execution_count": null,
      "outputs": []
    },
    {
      "cell_type": "markdown",
      "metadata": {
        "id": "kacDqQNTzNFy"
      },
      "source": [
        "**파일 열어 값 쓰기**"
      ]
    },
    {
      "cell_type": "code",
      "metadata": {
        "id": "SxaRvJtOzMD8"
      },
      "source": [
        "f = open(\"python.txt\", 'w')\n",
        "for i in range(1, 11):\n",
        "    data = \"%d번째 줄입니다.\\n\" % i\n",
        "    f.write(data)\n",
        "f.close()"
      ],
      "execution_count": null,
      "outputs": []
    },
    {
      "cell_type": "markdown",
      "metadata": {
        "id": "PTjdgN_CzcrE"
      },
      "source": [
        "**파일의 값 확인해 보기**"
      ]
    },
    {
      "cell_type": "code",
      "metadata": {
        "id": "nP72qqc4zfEc"
      },
      "source": [
        "!cat python.txt"
      ],
      "execution_count": null,
      "outputs": []
    },
    {
      "cell_type": "markdown",
      "metadata": {
        "id": "E2nVcwECz134"
      },
      "source": [
        "**readline() 함수 이용하기**"
      ]
    },
    {
      "cell_type": "code",
      "metadata": {
        "id": "4LPiEVr3zzu8"
      },
      "source": [
        "# readline_test.py\n",
        "f = open(\"python.txt\", 'r')\n",
        "line = f.readline()      # readline 함수는 한 줄만 읽는다.\n",
        "print(line)\n",
        "f.close()"
      ],
      "execution_count": null,
      "outputs": []
    },
    {
      "cell_type": "markdown",
      "metadata": {
        "id": "usO3uAA_0X3_"
      },
      "source": [
        "**반복문을 이용해 모든 값 읽어오기**"
      ]
    },
    {
      "cell_type": "code",
      "metadata": {
        "id": "RocsF1NY0FRz"
      },
      "source": [
        "f = open(\"python.txt\", 'r')\n",
        "while True:\n",
        "    line = f.readline()\n",
        "    if not line: break\n",
        "    print(line)\n",
        "f.close()"
      ],
      "execution_count": null,
      "outputs": []
    },
    {
      "cell_type": "markdown",
      "metadata": {
        "id": "AvVLWY9O0jZN"
      },
      "source": [
        "**readlines 함수 사용하기**"
      ]
    },
    {
      "cell_type": "code",
      "metadata": {
        "id": "sDOHYJpu0mMJ"
      },
      "source": [
        "f = open(\"python.txt\", 'r')\n",
        "lines = f.readlines()  # 파일의 모든 줄을 읽은 뒤, 각각의 줄을 요소로 갖는 리스트로 반환\n",
        "for line in lines:\n",
        "    print(line)\n",
        "f.close()"
      ],
      "execution_count": null,
      "outputs": []
    },
    {
      "cell_type": "markdown",
      "metadata": {
        "id": "Z961J9Qz0sWy"
      },
      "source": [
        "**read 함수 사용하기**"
      ]
    },
    {
      "cell_type": "code",
      "metadata": {
        "id": "KXxKNJ_L0rRz"
      },
      "source": [
        "f = open(\"python.txt\", 'r')\n",
        "data = f.read()  # 파일 내용 전체를 하나의 문자열로 반환\n",
        "print(data)\n",
        "f.close()"
      ],
      "execution_count": null,
      "outputs": []
    },
    {
      "cell_type": "markdown",
      "metadata": {
        "id": "9eryK1uZ07Fp"
      },
      "source": [
        "**파일에 새로운 내용 추가하기**"
      ]
    },
    {
      "cell_type": "code",
      "metadata": {
        "id": "oO7gfO2f09P1"
      },
      "source": [
        "f = open(\"python.txt\", 'a')\n",
        "for i in range(11, 20):\n",
        "    data = \"%d번째 줄입니다.\\n\" % i\n",
        "    f.write(data)\n",
        "f.close()"
      ],
      "execution_count": null,
      "outputs": []
    },
    {
      "cell_type": "markdown",
      "metadata": {
        "id": "llZ6rYVO1LVd"
      },
      "source": [
        "**파일의 값 확인해 보기**"
      ]
    },
    {
      "cell_type": "code",
      "metadata": {
        "id": "6z_GQJvU1NY8"
      },
      "source": [
        "!cat python.txt"
      ],
      "execution_count": null,
      "outputs": []
    },
    {
      "cell_type": "markdown",
      "metadata": {
        "id": "yijcTkt41XXQ"
      },
      "source": [
        "**with 문과 함께 사용하기**"
      ]
    },
    {
      "cell_type": "code",
      "metadata": {
        "id": "AAPvjxfo1Wbn"
      },
      "source": [
        "with open(\"foo.txt\", \"w\") as f:\n",
        "    f.write(\"Life is too short, you need python\")"
      ],
      "execution_count": null,
      "outputs": []
    },
    {
      "cell_type": "markdown",
      "metadata": {
        "id": "YbWOemQK1coO"
      },
      "source": [
        "**파일의 값 확인하기**"
      ]
    },
    {
      "cell_type": "code",
      "metadata": {
        "id": "blrrtk3a1d7Q"
      },
      "source": [
        "!ls\n",
        "!cat foo.txt"
      ],
      "execution_count": null,
      "outputs": []
    }
  ]
}